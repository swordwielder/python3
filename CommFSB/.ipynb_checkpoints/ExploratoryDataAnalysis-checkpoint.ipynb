{
 "cells": [
  {
   "cell_type": "markdown",
   "metadata": {},
   "source": [
    "# Introduction\n",
    "## What is Exploratory Data Analysis?\n",
    "### Exploratory Data Analysis or (EDA) is understanding the data sets by summarizing their main characteristics often plotting them visually. This step is very important especially when we arrive at modeling the data in order to apply Machine learning. Plotting in EDA consists of Histograms, Box plot, Scatter plot and many more. It often takes much time to explore the data. Through the process of EDA, we can ask to define the problem statement or definition on our data set which is very important."
   ]
  },
  {
   "cell_type": "markdown",
   "metadata": {},
   "source": [
    "## How to perform Exploratory Data Analysis?\n",
    "### This is one such question that everyone is keen on knowing the answer. Well, the answer is it depends on the data set that you are working. There is no one method or common methods in order to perform EDA, whereas in this tutorial you can understand some common methods and plots that would be used in the EDA process."
   ]
  },
  {
   "cell_type": "markdown",
   "metadata": {},
   "source": [
    "## What data are we exploring today?\n",
    "### Since I am a huge fan of cars, I got a very beautiful data-set of cars from Kaggle. The data-set can be downloaded from here. To give a piece of brief information about the data set this data contains more of 10, 000 rows and more than 10 columns which contains features of the car such as Engine Fuel Type, Engine Size, HP, Transmission Type, highway MPG, city MPG and many more. So in this tutorial, we will explore the data and make it ready for modeling."
   ]
  },
  {
   "cell_type": "markdown",
   "metadata": {},
   "source": [
    "## Let's get started !!!\n",
    "## 1. Importing the required libraries for EDA\n",
    "### Below are the libraries that are used in order to perform EDA (Exploratory data analysis) in this tutorial. The complete code can be found on my GitHub"
   ]
  },
  {
   "cell_type": "code",
   "execution_count": 1,
   "metadata": {},
   "outputs": [],
   "source": [
    "# Importing required libraries.\n",
    "import pandas as pd\n",
    "import numpy as np\n",
    "import seaborn as sns #visualisation\n",
    "import matplotlib.pyplot as plt #visualisation\n",
    "%matplotlib inline \n",
    "sns.set(color_codes=True)"
   ]
  },
  {
   "cell_type": "markdown",
   "metadata": {},
   "source": [
    "## 2. Loading the data into the data frame.\n",
    "### Loading the data into the pandas data frame is certainly one of the most important steps in EDA, as we can see that the value from the data set is comma-separated. So all we have to do is to just read the CSV into a data frame and pandas data frame does the job for us."
   ]
  },
  {
   "cell_type": "markdown",
   "metadata": {},
   "source": [
    "### To get or load the dataset into the notebook, all I did was one trivial step. In Google Colab at the left-hand side of the notebook, you will find a “>” (greater than symbol). When you click that you will find a tab with three options, you just have to select Files. Then you can easily upload your file with the help of the Upload option. No need to mount to the google drive or use any specific libraries just upload the data set and your job is done. One thing to remember in this step is that uploaded files will get deleted when this runtime is recycled. This is how I got the data set into the notebook."
   ]
  },
  {
   "cell_type": "code",
   "execution_count": 3,
   "metadata": {},
   "outputs": [
    {
     "data": {
      "text/html": [
       "<div>\n",
       "<style scoped>\n",
       "    .dataframe tbody tr th:only-of-type {\n",
       "        vertical-align: middle;\n",
       "    }\n",
       "\n",
       "    .dataframe tbody tr th {\n",
       "        vertical-align: top;\n",
       "    }\n",
       "\n",
       "    .dataframe thead th {\n",
       "        text-align: right;\n",
       "    }\n",
       "</style>\n",
       "<table border=\"1\" class=\"dataframe\">\n",
       "  <thead>\n",
       "    <tr style=\"text-align: right;\">\n",
       "      <th></th>\n",
       "      <th>Unnamed: 0</th>\n",
       "      <th>row.names</th>\n",
       "      <th>x.1</th>\n",
       "      <th>x.2</th>\n",
       "      <th>x.3</th>\n",
       "      <th>x.4</th>\n",
       "      <th>x.5</th>\n",
       "      <th>x.6</th>\n",
       "      <th>x.7</th>\n",
       "      <th>x.8</th>\n",
       "      <th>...</th>\n",
       "      <th>x.249</th>\n",
       "      <th>x.250</th>\n",
       "      <th>x.251</th>\n",
       "      <th>x.252</th>\n",
       "      <th>x.253</th>\n",
       "      <th>x.254</th>\n",
       "      <th>x.255</th>\n",
       "      <th>x.256</th>\n",
       "      <th>g</th>\n",
       "      <th>speaker</th>\n",
       "    </tr>\n",
       "  </thead>\n",
       "  <tbody>\n",
       "    <tr>\n",
       "      <th>0</th>\n",
       "      <td>0</td>\n",
       "      <td>1</td>\n",
       "      <td>9.85770</td>\n",
       "      <td>9.20711</td>\n",
       "      <td>9.81689</td>\n",
       "      <td>9.01692</td>\n",
       "      <td>9.05675</td>\n",
       "      <td>8.92518</td>\n",
       "      <td>11.28308</td>\n",
       "      <td>11.52980</td>\n",
       "      <td>...</td>\n",
       "      <td>12.68076</td>\n",
       "      <td>11.20767</td>\n",
       "      <td>13.69394</td>\n",
       "      <td>13.72055</td>\n",
       "      <td>12.16628</td>\n",
       "      <td>12.92489</td>\n",
       "      <td>12.51195</td>\n",
       "      <td>9.75527</td>\n",
       "      <td>sh</td>\n",
       "      <td>train.dr1.mcpm0.sa1</td>\n",
       "    </tr>\n",
       "    <tr>\n",
       "      <th>1</th>\n",
       "      <td>1</td>\n",
       "      <td>2</td>\n",
       "      <td>13.23079</td>\n",
       "      <td>14.19189</td>\n",
       "      <td>15.34428</td>\n",
       "      <td>18.11737</td>\n",
       "      <td>19.53875</td>\n",
       "      <td>18.32726</td>\n",
       "      <td>17.34169</td>\n",
       "      <td>17.16861</td>\n",
       "      <td>...</td>\n",
       "      <td>8.45714</td>\n",
       "      <td>8.77266</td>\n",
       "      <td>9.59717</td>\n",
       "      <td>8.45336</td>\n",
       "      <td>7.57730</td>\n",
       "      <td>5.38504</td>\n",
       "      <td>9.43063</td>\n",
       "      <td>8.59328</td>\n",
       "      <td>iy</td>\n",
       "      <td>train.dr1.mcpm0.sa1</td>\n",
       "    </tr>\n",
       "    <tr>\n",
       "      <th>2</th>\n",
       "      <td>2</td>\n",
       "      <td>3</td>\n",
       "      <td>10.81889</td>\n",
       "      <td>9.07615</td>\n",
       "      <td>9.77940</td>\n",
       "      <td>12.20135</td>\n",
       "      <td>12.59005</td>\n",
       "      <td>10.53364</td>\n",
       "      <td>8.54693</td>\n",
       "      <td>9.46049</td>\n",
       "      <td>...</td>\n",
       "      <td>5.00824</td>\n",
       "      <td>5.51019</td>\n",
       "      <td>5.95725</td>\n",
       "      <td>7.04992</td>\n",
       "      <td>7.02469</td>\n",
       "      <td>6.58416</td>\n",
       "      <td>6.27058</td>\n",
       "      <td>3.85042</td>\n",
       "      <td>dcl</td>\n",
       "      <td>train.dr1.mcpm0.sa1</td>\n",
       "    </tr>\n",
       "    <tr>\n",
       "      <th>3</th>\n",
       "      <td>3</td>\n",
       "      <td>4</td>\n",
       "      <td>10.53679</td>\n",
       "      <td>9.12147</td>\n",
       "      <td>10.84621</td>\n",
       "      <td>13.92331</td>\n",
       "      <td>13.52476</td>\n",
       "      <td>10.27831</td>\n",
       "      <td>8.97459</td>\n",
       "      <td>11.57109</td>\n",
       "      <td>...</td>\n",
       "      <td>5.85688</td>\n",
       "      <td>5.40324</td>\n",
       "      <td>6.07126</td>\n",
       "      <td>5.30651</td>\n",
       "      <td>4.27412</td>\n",
       "      <td>3.63384</td>\n",
       "      <td>3.22823</td>\n",
       "      <td>4.63123</td>\n",
       "      <td>dcl</td>\n",
       "      <td>train.dr1.mcpm0.sa1</td>\n",
       "    </tr>\n",
       "    <tr>\n",
       "      <th>4</th>\n",
       "      <td>4</td>\n",
       "      <td>5</td>\n",
       "      <td>12.96705</td>\n",
       "      <td>13.69454</td>\n",
       "      <td>14.91182</td>\n",
       "      <td>18.22292</td>\n",
       "      <td>18.45390</td>\n",
       "      <td>17.25760</td>\n",
       "      <td>17.79614</td>\n",
       "      <td>17.76387</td>\n",
       "      <td>...</td>\n",
       "      <td>8.00151</td>\n",
       "      <td>7.58624</td>\n",
       "      <td>6.65202</td>\n",
       "      <td>7.69109</td>\n",
       "      <td>6.93683</td>\n",
       "      <td>7.03600</td>\n",
       "      <td>7.01278</td>\n",
       "      <td>8.52197</td>\n",
       "      <td>aa</td>\n",
       "      <td>train.dr1.mcpm0.sa1</td>\n",
       "    </tr>\n",
       "  </tbody>\n",
       "</table>\n",
       "<p>5 rows × 260 columns</p>\n",
       "</div>"
      ],
      "text/plain": [
       "   Unnamed: 0  row.names       x.1       x.2       x.3       x.4       x.5  \\\n",
       "0           0          1   9.85770   9.20711   9.81689   9.01692   9.05675   \n",
       "1           1          2  13.23079  14.19189  15.34428  18.11737  19.53875   \n",
       "2           2          3  10.81889   9.07615   9.77940  12.20135  12.59005   \n",
       "3           3          4  10.53679   9.12147  10.84621  13.92331  13.52476   \n",
       "4           4          5  12.96705  13.69454  14.91182  18.22292  18.45390   \n",
       "\n",
       "        x.6       x.7       x.8  ...     x.249     x.250     x.251     x.252  \\\n",
       "0   8.92518  11.28308  11.52980  ...  12.68076  11.20767  13.69394  13.72055   \n",
       "1  18.32726  17.34169  17.16861  ...   8.45714   8.77266   9.59717   8.45336   \n",
       "2  10.53364   8.54693   9.46049  ...   5.00824   5.51019   5.95725   7.04992   \n",
       "3  10.27831   8.97459  11.57109  ...   5.85688   5.40324   6.07126   5.30651   \n",
       "4  17.25760  17.79614  17.76387  ...   8.00151   7.58624   6.65202   7.69109   \n",
       "\n",
       "      x.253     x.254     x.255    x.256    g              speaker  \n",
       "0  12.16628  12.92489  12.51195  9.75527   sh  train.dr1.mcpm0.sa1  \n",
       "1   7.57730   5.38504   9.43063  8.59328   iy  train.dr1.mcpm0.sa1  \n",
       "2   7.02469   6.58416   6.27058  3.85042  dcl  train.dr1.mcpm0.sa1  \n",
       "3   4.27412   3.63384   3.22823  4.63123  dcl  train.dr1.mcpm0.sa1  \n",
       "4   6.93683   7.03600   7.01278  8.52197   aa  train.dr1.mcpm0.sa1  \n",
       "\n",
       "[5 rows x 260 columns]"
      ]
     },
     "execution_count": 3,
     "metadata": {},
     "output_type": "execute_result"
    }
   ],
   "source": [
    "df = pd.read_csv('data.csv')\n",
    "# To display the top 5 rows\n",
    "df.head(5)"
   ]
  },
  {
   "cell_type": "code",
   "execution_count": 4,
   "metadata": {},
   "outputs": [
    {
     "data": {
      "text/html": [
       "<div>\n",
       "<style scoped>\n",
       "    .dataframe tbody tr th:only-of-type {\n",
       "        vertical-align: middle;\n",
       "    }\n",
       "\n",
       "    .dataframe tbody tr th {\n",
       "        vertical-align: top;\n",
       "    }\n",
       "\n",
       "    .dataframe thead th {\n",
       "        text-align: right;\n",
       "    }\n",
       "</style>\n",
       "<table border=\"1\" class=\"dataframe\">\n",
       "  <thead>\n",
       "    <tr style=\"text-align: right;\">\n",
       "      <th></th>\n",
       "      <th>Unnamed: 0</th>\n",
       "      <th>row.names</th>\n",
       "      <th>x.1</th>\n",
       "      <th>x.2</th>\n",
       "      <th>x.3</th>\n",
       "      <th>x.4</th>\n",
       "      <th>x.5</th>\n",
       "      <th>x.6</th>\n",
       "      <th>x.7</th>\n",
       "      <th>x.8</th>\n",
       "      <th>...</th>\n",
       "      <th>x.249</th>\n",
       "      <th>x.250</th>\n",
       "      <th>x.251</th>\n",
       "      <th>x.252</th>\n",
       "      <th>x.253</th>\n",
       "      <th>x.254</th>\n",
       "      <th>x.255</th>\n",
       "      <th>x.256</th>\n",
       "      <th>g</th>\n",
       "      <th>speaker</th>\n",
       "    </tr>\n",
       "  </thead>\n",
       "  <tbody>\n",
       "    <tr>\n",
       "      <th>4504</th>\n",
       "      <td>4504</td>\n",
       "      <td>4505</td>\n",
       "      <td>11.38394</td>\n",
       "      <td>10.21040</td>\n",
       "      <td>16.32658</td>\n",
       "      <td>18.30125</td>\n",
       "      <td>16.91804</td>\n",
       "      <td>10.90029</td>\n",
       "      <td>17.10393</td>\n",
       "      <td>19.37741</td>\n",
       "      <td>...</td>\n",
       "      <td>9.79996</td>\n",
       "      <td>7.85765</td>\n",
       "      <td>6.92906</td>\n",
       "      <td>8.89384</td>\n",
       "      <td>8.04072</td>\n",
       "      <td>6.99793</td>\n",
       "      <td>6.07412</td>\n",
       "      <td>7.32593</td>\n",
       "      <td>iy</td>\n",
       "      <td>test.dr8.mslb0.sa1</td>\n",
       "    </tr>\n",
       "    <tr>\n",
       "      <th>4505</th>\n",
       "      <td>4505</td>\n",
       "      <td>4506</td>\n",
       "      <td>12.01774</td>\n",
       "      <td>11.86761</td>\n",
       "      <td>16.34707</td>\n",
       "      <td>18.05214</td>\n",
       "      <td>15.97599</td>\n",
       "      <td>12.86022</td>\n",
       "      <td>16.83436</td>\n",
       "      <td>18.38985</td>\n",
       "      <td>...</td>\n",
       "      <td>8.20094</td>\n",
       "      <td>8.40645</td>\n",
       "      <td>7.49869</td>\n",
       "      <td>9.56486</td>\n",
       "      <td>10.86934</td>\n",
       "      <td>8.85308</td>\n",
       "      <td>9.88492</td>\n",
       "      <td>6.35767</td>\n",
       "      <td>aa</td>\n",
       "      <td>test.dr8.mslb0.sa1</td>\n",
       "    </tr>\n",
       "    <tr>\n",
       "      <th>4506</th>\n",
       "      <td>4506</td>\n",
       "      <td>4507</td>\n",
       "      <td>12.30174</td>\n",
       "      <td>12.40383</td>\n",
       "      <td>9.06497</td>\n",
       "      <td>12.43750</td>\n",
       "      <td>13.48388</td>\n",
       "      <td>13.52034</td>\n",
       "      <td>12.97796</td>\n",
       "      <td>11.58782</td>\n",
       "      <td>...</td>\n",
       "      <td>12.83836</td>\n",
       "      <td>10.62525</td>\n",
       "      <td>10.15274</td>\n",
       "      <td>9.59347</td>\n",
       "      <td>10.66338</td>\n",
       "      <td>9.88007</td>\n",
       "      <td>10.82203</td>\n",
       "      <td>12.00199</td>\n",
       "      <td>sh</td>\n",
       "      <td>test.dr8.mslb0.sa1</td>\n",
       "    </tr>\n",
       "    <tr>\n",
       "      <th>4507</th>\n",
       "      <td>4507</td>\n",
       "      <td>4508</td>\n",
       "      <td>8.39388</td>\n",
       "      <td>9.84770</td>\n",
       "      <td>16.24534</td>\n",
       "      <td>17.35311</td>\n",
       "      <td>14.80537</td>\n",
       "      <td>12.72429</td>\n",
       "      <td>17.01145</td>\n",
       "      <td>17.54733</td>\n",
       "      <td>...</td>\n",
       "      <td>4.57875</td>\n",
       "      <td>7.91262</td>\n",
       "      <td>8.08014</td>\n",
       "      <td>9.25111</td>\n",
       "      <td>9.56086</td>\n",
       "      <td>9.37979</td>\n",
       "      <td>6.83916</td>\n",
       "      <td>8.54817</td>\n",
       "      <td>ao</td>\n",
       "      <td>test.dr8.mslb0.sa1</td>\n",
       "    </tr>\n",
       "    <tr>\n",
       "      <th>4508</th>\n",
       "      <td>4508</td>\n",
       "      <td>4509</td>\n",
       "      <td>8.14032</td>\n",
       "      <td>9.93753</td>\n",
       "      <td>16.30187</td>\n",
       "      <td>17.31425</td>\n",
       "      <td>14.40116</td>\n",
       "      <td>13.52353</td>\n",
       "      <td>16.85938</td>\n",
       "      <td>17.14016</td>\n",
       "      <td>...</td>\n",
       "      <td>5.27574</td>\n",
       "      <td>6.95050</td>\n",
       "      <td>7.83462</td>\n",
       "      <td>7.96455</td>\n",
       "      <td>7.26886</td>\n",
       "      <td>7.08945</td>\n",
       "      <td>7.72929</td>\n",
       "      <td>6.42167</td>\n",
       "      <td>ao</td>\n",
       "      <td>test.dr8.mslb0.sa1</td>\n",
       "    </tr>\n",
       "  </tbody>\n",
       "</table>\n",
       "<p>5 rows × 260 columns</p>\n",
       "</div>"
      ],
      "text/plain": [
       "      Unnamed: 0  row.names       x.1       x.2       x.3       x.4       x.5  \\\n",
       "4504        4504       4505  11.38394  10.21040  16.32658  18.30125  16.91804   \n",
       "4505        4505       4506  12.01774  11.86761  16.34707  18.05214  15.97599   \n",
       "4506        4506       4507  12.30174  12.40383   9.06497  12.43750  13.48388   \n",
       "4507        4507       4508   8.39388   9.84770  16.24534  17.35311  14.80537   \n",
       "4508        4508       4509   8.14032   9.93753  16.30187  17.31425  14.40116   \n",
       "\n",
       "           x.6       x.7       x.8  ...     x.249     x.250     x.251  \\\n",
       "4504  10.90029  17.10393  19.37741  ...   9.79996   7.85765   6.92906   \n",
       "4505  12.86022  16.83436  18.38985  ...   8.20094   8.40645   7.49869   \n",
       "4506  13.52034  12.97796  11.58782  ...  12.83836  10.62525  10.15274   \n",
       "4507  12.72429  17.01145  17.54733  ...   4.57875   7.91262   8.08014   \n",
       "4508  13.52353  16.85938  17.14016  ...   5.27574   6.95050   7.83462   \n",
       "\n",
       "        x.252     x.253    x.254     x.255     x.256   g             speaker  \n",
       "4504  8.89384   8.04072  6.99793   6.07412   7.32593  iy  test.dr8.mslb0.sa1  \n",
       "4505  9.56486  10.86934  8.85308   9.88492   6.35767  aa  test.dr8.mslb0.sa1  \n",
       "4506  9.59347  10.66338  9.88007  10.82203  12.00199  sh  test.dr8.mslb0.sa1  \n",
       "4507  9.25111   9.56086  9.37979   6.83916   8.54817  ao  test.dr8.mslb0.sa1  \n",
       "4508  7.96455   7.26886  7.08945   7.72929   6.42167  ao  test.dr8.mslb0.sa1  \n",
       "\n",
       "[5 rows x 260 columns]"
      ]
     },
     "execution_count": 4,
     "metadata": {},
     "output_type": "execute_result"
    }
   ],
   "source": [
    "# To display the bottom 5 rows\n",
    "df.tail(5) "
   ]
  },
  {
   "cell_type": "markdown",
   "metadata": {},
   "source": [
    "## 3. Checking the types of data\n",
    "### Here we check for the datatypes because sometimes the MSRP or the price of the car would be stored as a string or object, if in that case, we have to convert that string to the integer data only then we can plot the data via a graph. Here, in this case, the data is already in integer format so nothing to worry."
   ]
  },
  {
   "cell_type": "code",
   "execution_count": 5,
   "metadata": {},
   "outputs": [
    {
     "data": {
      "text/plain": [
       "Unnamed: 0      int64\n",
       "row.names       int64\n",
       "x.1           float64\n",
       "x.2           float64\n",
       "x.3           float64\n",
       "               ...   \n",
       "x.254         float64\n",
       "x.255         float64\n",
       "x.256         float64\n",
       "g              object\n",
       "speaker        object\n",
       "Length: 260, dtype: object"
      ]
     },
     "execution_count": 5,
     "metadata": {},
     "output_type": "execute_result"
    }
   ],
   "source": [
    "# Checking the data type\n",
    "df.dtypes"
   ]
  },
  {
   "cell_type": "markdown",
   "metadata": {},
   "source": [
    "## 4. Dropping irrelevant columns\n",
    "### This step is certainly needed in every EDA because sometimes there would be many columns that we never use in such cases dropping is the only solution. In this case, the columns such as Engine Fuel Type, Market Category, Vehicle style, Popularity, Number of doors, Vehicle Size doesn't make any sense to me so I just dropped for this instance."
   ]
  },
  {
   "cell_type": "code",
   "execution_count": 6,
   "metadata": {},
   "outputs": [
    {
     "data": {
      "text/html": [
       "<div>\n",
       "<style scoped>\n",
       "    .dataframe tbody tr th:only-of-type {\n",
       "        vertical-align: middle;\n",
       "    }\n",
       "\n",
       "    .dataframe tbody tr th {\n",
       "        vertical-align: top;\n",
       "    }\n",
       "\n",
       "    .dataframe thead th {\n",
       "        text-align: right;\n",
       "    }\n",
       "</style>\n",
       "<table border=\"1\" class=\"dataframe\">\n",
       "  <thead>\n",
       "    <tr style=\"text-align: right;\">\n",
       "      <th></th>\n",
       "      <th>Unnamed: 0</th>\n",
       "      <th>x.1</th>\n",
       "      <th>x.2</th>\n",
       "      <th>x.3</th>\n",
       "      <th>x.4</th>\n",
       "      <th>x.5</th>\n",
       "      <th>x.6</th>\n",
       "      <th>x.7</th>\n",
       "      <th>x.8</th>\n",
       "      <th>x.9</th>\n",
       "      <th>...</th>\n",
       "      <th>x.248</th>\n",
       "      <th>x.249</th>\n",
       "      <th>x.250</th>\n",
       "      <th>x.251</th>\n",
       "      <th>x.252</th>\n",
       "      <th>x.253</th>\n",
       "      <th>x.254</th>\n",
       "      <th>x.255</th>\n",
       "      <th>x.256</th>\n",
       "      <th>g</th>\n",
       "    </tr>\n",
       "  </thead>\n",
       "  <tbody>\n",
       "    <tr>\n",
       "      <th>0</th>\n",
       "      <td>0</td>\n",
       "      <td>9.85770</td>\n",
       "      <td>9.20711</td>\n",
       "      <td>9.81689</td>\n",
       "      <td>9.01692</td>\n",
       "      <td>9.05675</td>\n",
       "      <td>8.92518</td>\n",
       "      <td>11.28308</td>\n",
       "      <td>11.52980</td>\n",
       "      <td>10.79713</td>\n",
       "      <td>...</td>\n",
       "      <td>12.94519</td>\n",
       "      <td>12.68076</td>\n",
       "      <td>11.20767</td>\n",
       "      <td>13.69394</td>\n",
       "      <td>13.72055</td>\n",
       "      <td>12.16628</td>\n",
       "      <td>12.92489</td>\n",
       "      <td>12.51195</td>\n",
       "      <td>9.75527</td>\n",
       "      <td>sh</td>\n",
       "    </tr>\n",
       "    <tr>\n",
       "      <th>1</th>\n",
       "      <td>1</td>\n",
       "      <td>13.23079</td>\n",
       "      <td>14.19189</td>\n",
       "      <td>15.34428</td>\n",
       "      <td>18.11737</td>\n",
       "      <td>19.53875</td>\n",
       "      <td>18.32726</td>\n",
       "      <td>17.34169</td>\n",
       "      <td>17.16861</td>\n",
       "      <td>19.63557</td>\n",
       "      <td>...</td>\n",
       "      <td>8.91567</td>\n",
       "      <td>8.45714</td>\n",
       "      <td>8.77266</td>\n",
       "      <td>9.59717</td>\n",
       "      <td>8.45336</td>\n",
       "      <td>7.57730</td>\n",
       "      <td>5.38504</td>\n",
       "      <td>9.43063</td>\n",
       "      <td>8.59328</td>\n",
       "      <td>iy</td>\n",
       "    </tr>\n",
       "    <tr>\n",
       "      <th>2</th>\n",
       "      <td>2</td>\n",
       "      <td>10.81889</td>\n",
       "      <td>9.07615</td>\n",
       "      <td>9.77940</td>\n",
       "      <td>12.20135</td>\n",
       "      <td>12.59005</td>\n",
       "      <td>10.53364</td>\n",
       "      <td>8.54693</td>\n",
       "      <td>9.46049</td>\n",
       "      <td>11.96755</td>\n",
       "      <td>...</td>\n",
       "      <td>6.49345</td>\n",
       "      <td>5.00824</td>\n",
       "      <td>5.51019</td>\n",
       "      <td>5.95725</td>\n",
       "      <td>7.04992</td>\n",
       "      <td>7.02469</td>\n",
       "      <td>6.58416</td>\n",
       "      <td>6.27058</td>\n",
       "      <td>3.85042</td>\n",
       "      <td>dcl</td>\n",
       "    </tr>\n",
       "    <tr>\n",
       "      <th>3</th>\n",
       "      <td>3</td>\n",
       "      <td>10.53679</td>\n",
       "      <td>9.12147</td>\n",
       "      <td>10.84621</td>\n",
       "      <td>13.92331</td>\n",
       "      <td>13.52476</td>\n",
       "      <td>10.27831</td>\n",
       "      <td>8.97459</td>\n",
       "      <td>11.57109</td>\n",
       "      <td>12.35839</td>\n",
       "      <td>...</td>\n",
       "      <td>5.36506</td>\n",
       "      <td>5.85688</td>\n",
       "      <td>5.40324</td>\n",
       "      <td>6.07126</td>\n",
       "      <td>5.30651</td>\n",
       "      <td>4.27412</td>\n",
       "      <td>3.63384</td>\n",
       "      <td>3.22823</td>\n",
       "      <td>4.63123</td>\n",
       "      <td>dcl</td>\n",
       "    </tr>\n",
       "    <tr>\n",
       "      <th>4</th>\n",
       "      <td>4</td>\n",
       "      <td>12.96705</td>\n",
       "      <td>13.69454</td>\n",
       "      <td>14.91182</td>\n",
       "      <td>18.22292</td>\n",
       "      <td>18.45390</td>\n",
       "      <td>17.25760</td>\n",
       "      <td>17.79614</td>\n",
       "      <td>17.76387</td>\n",
       "      <td>18.99632</td>\n",
       "      <td>...</td>\n",
       "      <td>7.74256</td>\n",
       "      <td>8.00151</td>\n",
       "      <td>7.58624</td>\n",
       "      <td>6.65202</td>\n",
       "      <td>7.69109</td>\n",
       "      <td>6.93683</td>\n",
       "      <td>7.03600</td>\n",
       "      <td>7.01278</td>\n",
       "      <td>8.52197</td>\n",
       "      <td>aa</td>\n",
       "    </tr>\n",
       "  </tbody>\n",
       "</table>\n",
       "<p>5 rows × 258 columns</p>\n",
       "</div>"
      ],
      "text/plain": [
       "   Unnamed: 0       x.1       x.2       x.3       x.4       x.5       x.6  \\\n",
       "0           0   9.85770   9.20711   9.81689   9.01692   9.05675   8.92518   \n",
       "1           1  13.23079  14.19189  15.34428  18.11737  19.53875  18.32726   \n",
       "2           2  10.81889   9.07615   9.77940  12.20135  12.59005  10.53364   \n",
       "3           3  10.53679   9.12147  10.84621  13.92331  13.52476  10.27831   \n",
       "4           4  12.96705  13.69454  14.91182  18.22292  18.45390  17.25760   \n",
       "\n",
       "        x.7       x.8       x.9  ...     x.248     x.249     x.250     x.251  \\\n",
       "0  11.28308  11.52980  10.79713  ...  12.94519  12.68076  11.20767  13.69394   \n",
       "1  17.34169  17.16861  19.63557  ...   8.91567   8.45714   8.77266   9.59717   \n",
       "2   8.54693   9.46049  11.96755  ...   6.49345   5.00824   5.51019   5.95725   \n",
       "3   8.97459  11.57109  12.35839  ...   5.36506   5.85688   5.40324   6.07126   \n",
       "4  17.79614  17.76387  18.99632  ...   7.74256   8.00151   7.58624   6.65202   \n",
       "\n",
       "      x.252     x.253     x.254     x.255    x.256    g  \n",
       "0  13.72055  12.16628  12.92489  12.51195  9.75527   sh  \n",
       "1   8.45336   7.57730   5.38504   9.43063  8.59328   iy  \n",
       "2   7.04992   7.02469   6.58416   6.27058  3.85042  dcl  \n",
       "3   5.30651   4.27412   3.63384   3.22823  4.63123  dcl  \n",
       "4   7.69109   6.93683   7.03600   7.01278  8.52197   aa  \n",
       "\n",
       "[5 rows x 258 columns]"
      ]
     },
     "execution_count": 6,
     "metadata": {},
     "output_type": "execute_result"
    }
   ],
   "source": [
    "# Dropping irrelevant columns\n",
    "df = df.drop(['speaker', 'row.names'], axis=1)\n",
    "df.head(5)"
   ]
  },
  {
   "cell_type": "markdown",
   "metadata": {},
   "source": [
    "## 5. Renaming the columns\n",
    "### In this instance, most of the column names are very confusing to read, so I just tweaked their column names. This is a good approach it improves the readability of the data set."
   ]
  },
  {
   "cell_type": "code",
   "execution_count": 7,
   "metadata": {},
   "outputs": [],
   "source": [
    "# Renaming the column names\n",
    "## df = df.rename(columns={“Engine HP”: “HP”, “Engine Cylinders”: “Cylinders”, “Transmission Type”: “Transmission”, “Driven_Wheels”: “Drive Mode”,”highway MPG”: “MPG-H”, “city mpg”: “MPG-C”, “MSRP”: “Price” })\n",
    "## df.head(5)"
   ]
  },
  {
   "cell_type": "markdown",
   "metadata": {},
   "source": [
    "## 6. Dropping the duplicate rows\n",
    "### This is often a handy thing to do because a huge data set as in this case contains more than 10, 000 rows often have some duplicate data which might be disturbing, so here I remove all the duplicate value from the data-set. For example prior to removing I had 11914 rows of data but after removing the duplicates 10925 data meaning that I had 989 of duplicate data."
   ]
  },
  {
   "cell_type": "code",
   "execution_count": 10,
   "metadata": {},
   "outputs": [
    {
     "name": "stdout",
     "output_type": "stream",
     "text": [
      "number of duplicate rows:  (0, 258)\n"
     ]
    }
   ],
   "source": [
    "# Total number of rows and columns\n",
    "df.shape\n",
    "(11914, 10)\n",
    "# Rows containing duplicate data\n",
    "duplicate_rows_df = df[df.duplicated()]\n",
    "print(\"number of duplicate rows: \", duplicate_rows_df.shape)\n"
   ]
  },
  {
   "cell_type": "code",
   "execution_count": 11,
   "metadata": {},
   "outputs": [
    {
     "data": {
      "text/plain": [
       "Unnamed: 0    4509\n",
       "x.1           4509\n",
       "x.2           4509\n",
       "x.3           4509\n",
       "x.4           4509\n",
       "              ... \n",
       "x.253         4509\n",
       "x.254         4509\n",
       "x.255         4509\n",
       "x.256         4509\n",
       "g             4509\n",
       "Length: 258, dtype: int64"
      ]
     },
     "execution_count": 11,
     "metadata": {},
     "output_type": "execute_result"
    }
   ],
   "source": [
    "# Used to count the number of rows before removing the data\n",
    "df.count() "
   ]
  },
  {
   "cell_type": "markdown",
   "metadata": {},
   "source": [
    "## So seen above there are 11914 rows and we are removing 989 rows of duplicate data."
   ]
  },
  {
   "cell_type": "code",
   "execution_count": 13,
   "metadata": {},
   "outputs": [
    {
     "data": {
      "text/html": [
       "<div>\n",
       "<style scoped>\n",
       "    .dataframe tbody tr th:only-of-type {\n",
       "        vertical-align: middle;\n",
       "    }\n",
       "\n",
       "    .dataframe tbody tr th {\n",
       "        vertical-align: top;\n",
       "    }\n",
       "\n",
       "    .dataframe thead th {\n",
       "        text-align: right;\n",
       "    }\n",
       "</style>\n",
       "<table border=\"1\" class=\"dataframe\">\n",
       "  <thead>\n",
       "    <tr style=\"text-align: right;\">\n",
       "      <th></th>\n",
       "      <th>Unnamed: 0</th>\n",
       "      <th>x.1</th>\n",
       "      <th>x.2</th>\n",
       "      <th>x.3</th>\n",
       "      <th>x.4</th>\n",
       "      <th>x.5</th>\n",
       "      <th>x.6</th>\n",
       "      <th>x.7</th>\n",
       "      <th>x.8</th>\n",
       "      <th>x.9</th>\n",
       "      <th>...</th>\n",
       "      <th>x.248</th>\n",
       "      <th>x.249</th>\n",
       "      <th>x.250</th>\n",
       "      <th>x.251</th>\n",
       "      <th>x.252</th>\n",
       "      <th>x.253</th>\n",
       "      <th>x.254</th>\n",
       "      <th>x.255</th>\n",
       "      <th>x.256</th>\n",
       "      <th>g</th>\n",
       "    </tr>\n",
       "  </thead>\n",
       "  <tbody>\n",
       "    <tr>\n",
       "      <th>0</th>\n",
       "      <td>0</td>\n",
       "      <td>9.85770</td>\n",
       "      <td>9.20711</td>\n",
       "      <td>9.81689</td>\n",
       "      <td>9.01692</td>\n",
       "      <td>9.05675</td>\n",
       "      <td>8.92518</td>\n",
       "      <td>11.28308</td>\n",
       "      <td>11.52980</td>\n",
       "      <td>10.79713</td>\n",
       "      <td>...</td>\n",
       "      <td>12.94519</td>\n",
       "      <td>12.68076</td>\n",
       "      <td>11.20767</td>\n",
       "      <td>13.69394</td>\n",
       "      <td>13.72055</td>\n",
       "      <td>12.16628</td>\n",
       "      <td>12.92489</td>\n",
       "      <td>12.51195</td>\n",
       "      <td>9.75527</td>\n",
       "      <td>sh</td>\n",
       "    </tr>\n",
       "    <tr>\n",
       "      <th>1</th>\n",
       "      <td>1</td>\n",
       "      <td>13.23079</td>\n",
       "      <td>14.19189</td>\n",
       "      <td>15.34428</td>\n",
       "      <td>18.11737</td>\n",
       "      <td>19.53875</td>\n",
       "      <td>18.32726</td>\n",
       "      <td>17.34169</td>\n",
       "      <td>17.16861</td>\n",
       "      <td>19.63557</td>\n",
       "      <td>...</td>\n",
       "      <td>8.91567</td>\n",
       "      <td>8.45714</td>\n",
       "      <td>8.77266</td>\n",
       "      <td>9.59717</td>\n",
       "      <td>8.45336</td>\n",
       "      <td>7.57730</td>\n",
       "      <td>5.38504</td>\n",
       "      <td>9.43063</td>\n",
       "      <td>8.59328</td>\n",
       "      <td>iy</td>\n",
       "    </tr>\n",
       "    <tr>\n",
       "      <th>2</th>\n",
       "      <td>2</td>\n",
       "      <td>10.81889</td>\n",
       "      <td>9.07615</td>\n",
       "      <td>9.77940</td>\n",
       "      <td>12.20135</td>\n",
       "      <td>12.59005</td>\n",
       "      <td>10.53364</td>\n",
       "      <td>8.54693</td>\n",
       "      <td>9.46049</td>\n",
       "      <td>11.96755</td>\n",
       "      <td>...</td>\n",
       "      <td>6.49345</td>\n",
       "      <td>5.00824</td>\n",
       "      <td>5.51019</td>\n",
       "      <td>5.95725</td>\n",
       "      <td>7.04992</td>\n",
       "      <td>7.02469</td>\n",
       "      <td>6.58416</td>\n",
       "      <td>6.27058</td>\n",
       "      <td>3.85042</td>\n",
       "      <td>dcl</td>\n",
       "    </tr>\n",
       "    <tr>\n",
       "      <th>3</th>\n",
       "      <td>3</td>\n",
       "      <td>10.53679</td>\n",
       "      <td>9.12147</td>\n",
       "      <td>10.84621</td>\n",
       "      <td>13.92331</td>\n",
       "      <td>13.52476</td>\n",
       "      <td>10.27831</td>\n",
       "      <td>8.97459</td>\n",
       "      <td>11.57109</td>\n",
       "      <td>12.35839</td>\n",
       "      <td>...</td>\n",
       "      <td>5.36506</td>\n",
       "      <td>5.85688</td>\n",
       "      <td>5.40324</td>\n",
       "      <td>6.07126</td>\n",
       "      <td>5.30651</td>\n",
       "      <td>4.27412</td>\n",
       "      <td>3.63384</td>\n",
       "      <td>3.22823</td>\n",
       "      <td>4.63123</td>\n",
       "      <td>dcl</td>\n",
       "    </tr>\n",
       "    <tr>\n",
       "      <th>4</th>\n",
       "      <td>4</td>\n",
       "      <td>12.96705</td>\n",
       "      <td>13.69454</td>\n",
       "      <td>14.91182</td>\n",
       "      <td>18.22292</td>\n",
       "      <td>18.45390</td>\n",
       "      <td>17.25760</td>\n",
       "      <td>17.79614</td>\n",
       "      <td>17.76387</td>\n",
       "      <td>18.99632</td>\n",
       "      <td>...</td>\n",
       "      <td>7.74256</td>\n",
       "      <td>8.00151</td>\n",
       "      <td>7.58624</td>\n",
       "      <td>6.65202</td>\n",
       "      <td>7.69109</td>\n",
       "      <td>6.93683</td>\n",
       "      <td>7.03600</td>\n",
       "      <td>7.01278</td>\n",
       "      <td>8.52197</td>\n",
       "      <td>aa</td>\n",
       "    </tr>\n",
       "  </tbody>\n",
       "</table>\n",
       "<p>5 rows × 258 columns</p>\n",
       "</div>"
      ],
      "text/plain": [
       "   Unnamed: 0       x.1       x.2       x.3       x.4       x.5       x.6  \\\n",
       "0           0   9.85770   9.20711   9.81689   9.01692   9.05675   8.92518   \n",
       "1           1  13.23079  14.19189  15.34428  18.11737  19.53875  18.32726   \n",
       "2           2  10.81889   9.07615   9.77940  12.20135  12.59005  10.53364   \n",
       "3           3  10.53679   9.12147  10.84621  13.92331  13.52476  10.27831   \n",
       "4           4  12.96705  13.69454  14.91182  18.22292  18.45390  17.25760   \n",
       "\n",
       "        x.7       x.8       x.9  ...     x.248     x.249     x.250     x.251  \\\n",
       "0  11.28308  11.52980  10.79713  ...  12.94519  12.68076  11.20767  13.69394   \n",
       "1  17.34169  17.16861  19.63557  ...   8.91567   8.45714   8.77266   9.59717   \n",
       "2   8.54693   9.46049  11.96755  ...   6.49345   5.00824   5.51019   5.95725   \n",
       "3   8.97459  11.57109  12.35839  ...   5.36506   5.85688   5.40324   6.07126   \n",
       "4  17.79614  17.76387  18.99632  ...   7.74256   8.00151   7.58624   6.65202   \n",
       "\n",
       "      x.252     x.253     x.254     x.255    x.256    g  \n",
       "0  13.72055  12.16628  12.92489  12.51195  9.75527   sh  \n",
       "1   8.45336   7.57730   5.38504   9.43063  8.59328   iy  \n",
       "2   7.04992   7.02469   6.58416   6.27058  3.85042  dcl  \n",
       "3   5.30651   4.27412   3.63384   3.22823  4.63123  dcl  \n",
       "4   7.69109   6.93683   7.03600   7.01278  8.52197   aa  \n",
       "\n",
       "[5 rows x 258 columns]"
      ]
     },
     "execution_count": 13,
     "metadata": {},
     "output_type": "execute_result"
    }
   ],
   "source": [
    "# Dropping the duplicates \n",
    "df = df.drop_duplicates()\n",
    "df.head(5)"
   ]
  },
  {
   "cell_type": "code",
   "execution_count": null,
   "metadata": {},
   "outputs": [],
   "source": [
    "# Counting the number of rows after removing duplicates.\n",
    "df.count()"
   ]
  },
  {
   "cell_type": "markdown",
   "metadata": {},
   "source": [
    "## 7. Dropping the missing or null values.\n",
    "### This is mostly similar to the previous step but in here all the missing values are detected and are dropped later. Now, this is not a good approach to do so, because many people just replace the missing values with the mean or the average of that column, but in this case, I just dropped that missing values. This is because there is nearly 100 missing value compared to 10, 000 values this is a small number and this is negligible so I just dropped those values."
   ]
  },
  {
   "cell_type": "code",
   "execution_count": 15,
   "metadata": {},
   "outputs": [
    {
     "name": "stdout",
     "output_type": "stream",
     "text": [
      "Unnamed: 0    0\n",
      "x.1           0\n",
      "x.2           0\n",
      "x.3           0\n",
      "x.4           0\n",
      "             ..\n",
      "x.253         0\n",
      "x.254         0\n",
      "x.255         0\n",
      "x.256         0\n",
      "g             0\n",
      "Length: 258, dtype: int64\n"
     ]
    }
   ],
   "source": [
    "# Finding the null values.\n",
    "print(df.isnull().sum())"
   ]
  },
  {
   "cell_type": "markdown",
   "metadata": {},
   "source": [
    "### This is the reason in the above step while counting both Cylinders and Horsepower (HP) had 10856 and 10895 over 10925 rows."
   ]
  },
  {
   "cell_type": "code",
   "execution_count": 16,
   "metadata": {},
   "outputs": [
    {
     "data": {
      "text/plain": [
       "Unnamed: 0    4509\n",
       "x.1           4509\n",
       "x.2           4509\n",
       "x.3           4509\n",
       "x.4           4509\n",
       "              ... \n",
       "x.253         4509\n",
       "x.254         4509\n",
       "x.255         4509\n",
       "x.256         4509\n",
       "g             4509\n",
       "Length: 258, dtype: int64"
      ]
     },
     "execution_count": 16,
     "metadata": {},
     "output_type": "execute_result"
    }
   ],
   "source": [
    "# Dropping the missing values.\n",
    "df = df.dropna() \n",
    "df.count()"
   ]
  },
  {
   "cell_type": "markdown",
   "metadata": {},
   "source": [
    "## 8. Detecting Outliers\n",
    "### An outlier is a point or set of points that are different from other points. Sometimes they can be very high or very low. It’s often a good idea to detect and remove the outliers. Because outliers are one of the primary reasons for resulting in a less accurate model. Hence it’s a good idea to remove them. The outlier detection and removing that I am going to perform is called IQR score technique. Often outliers can be seen with visualizations using a box plot. Shown below are the box plot of MSRP, Cylinders, Horsepower and EngineSize. Herein all the plots, you can find some points are outside the box they are none other than outliers. The technique of finding and removing outlier that I am performing in this assignment is taken help of a tutorial from towards data science."
   ]
  },
  {
   "cell_type": "code",
   "execution_count": 20,
   "metadata": {},
   "outputs": [
    {
     "data": {
      "text/plain": [
       "<matplotlib.axes._subplots.AxesSubplot at 0x7f1f9fac65c0>"
      ]
     },
     "execution_count": 20,
     "metadata": {},
     "output_type": "execute_result"
    },
    {
     "data": {
      "image/png": "[encoded data removed]",
      "text/plain": [
       "<Figure size 432x288 with 1 Axes>"
      ]
     },
     "metadata": {
      "needs_background": "light"
     },
     "output_type": "display_data"
    }
   ],
   "source": [
    "pF = [col for col in df if col.startswith('x.')]\n",
    "sns.boxplot(x=df[pF])"
   ]
  },
  {
   "cell_type": "code",
   "execution_count": 21,
   "metadata": {},
   "outputs": [
    {
     "data": {
      "text/plain": [
       "<matplotlib.axes._subplots.AxesSubplot at 0x7f1f9fa501d0>"
      ]
     },
     "execution_count": 21,
     "metadata": {},
     "output_type": "execute_result"
    },
    {
     "data": {
      "image/png": "[encoded data removed]",
      "text/plain": [
       "<Figure size 432x288 with 1 Axes>"
      ]
     },
     "metadata": {
      "needs_background": "light"
     },
     "output_type": "display_data"
    }
   ],
   "source": [
    "sns.boxplot(x=df['x.1'])"
   ]
  },
  {
   "cell_type": "code",
   "execution_count": 22,
   "metadata": {},
   "outputs": [
    {
     "data": {
      "text/plain": [
       "<matplotlib.axes._subplots.AxesSubplot at 0x7f1f9fa279e8>"
      ]
     },
     "execution_count": 22,
     "metadata": {},
     "output_type": "execute_result"
    },
    {
     "data": {
      "image/png": "[encoded data removed]",
      "text/plain": [
       "<Figure size 432x288 with 1 Axes>"
      ]
     },
     "metadata": {
      "needs_background": "light"
     },
     "output_type": "display_data"
    }
   ],
   "source": [
    "sns.boxplot(x=df['x.2'])"
   ]
  },
  {
   "cell_type": "code",
   "execution_count": 23,
   "metadata": {},
   "outputs": [
    {
     "data": {
      "text/plain": [
       "<matplotlib.axes._subplots.AxesSubplot at 0x7f1f9f9a00b8>"
      ]
     },
     "execution_count": 23,
     "metadata": {},
     "output_type": "execute_result"
    },
    {
     "data": {
      "image/png": "[encoded data removed]",
      "text/plain": [
       "<Figure size 432x288 with 1 Axes>"
      ]
     },
     "metadata": {
      "needs_background": "light"
     },
     "output_type": "display_data"
    }
   ],
   "source": [
    "sns.boxplot(x=df['x.3'])"
   ]
  },
  {
   "cell_type": "code",
   "execution_count": null,
   "metadata": {},
   "outputs": [],
   "source": [
    "Q1 = df.quantile(0.25)\n",
    "Q3 = df.quantile(0.75)\n",
    "IQR = Q3 - Q1\n",
    "print(IQR)"
   ]
  },
  {
   "cell_type": "markdown",
   "metadata": {},
   "source": [
    "### Don’t worry about the above values because it’s not important to know each and every one of them because it's just important to know how to use this technique in order to remove the outliers."
   ]
  },
  {
   "cell_type": "code",
   "execution_count": null,
   "metadata": {},
   "outputs": [],
   "source": [
    "df = df[~((df < (Q1-1.5 * IQR)) |(df > (Q3 + 1.5 * IQR))).any(axis=1)]\n",
    "df.shape"
   ]
  },
  {
   "cell_type": "markdown",
   "metadata": {},
   "source": [
    "### As seen above there were around 1600 rows were outliers. But you cannot completely remove the outliers because even after you use the above technique there maybe 1–2 outlier unremoved but that ok because there were more than 100 outliers. Something is better than nothing."
   ]
  },
  {
   "cell_type": "markdown",
   "metadata": {},
   "source": [
    "## 9. Plot different features against one another (scatter), against frequency (histogram)\n",
    "## Histogram\n",
    "### Histogram refers to the frequency of occurrence of variables in an interval. In this case, there are mainly 10 different types of car manufacturing companies, but it is often important to know who has the most number of cars. To do this histogram is one of the trivial solutions which lets us know the total number of car manufactured by a different company."
   ]
  },
  {
   "cell_type": "code",
   "execution_count": null,
   "metadata": {},
   "outputs": [],
   "source": [
    "# Plotting a Histogram\n",
    "\n",
    "df['x.1'].value_counts().nlargest(40).plot(kind='bar', figsize=(10,5))\n",
    "plt.title('Frequency Measurement')\n",
    "plt.ylabel(\"Respose\")\n",
    "plt.xlabel('Predictor Feature')"
   ]
  },
  {
   "cell_type": "markdown",
   "metadata": {},
   "source": [
    "## Heat Maps\n",
    "### Heat Maps is a type of plot which is necessary when we need to find the dependent variables. One of the best way to find the relationship between the features can be done using heat maps. In the below heat map we know that the price feature depends mainly on the Engine Size, Horsepower, and Cylinders."
   ]
  },
  {
   "cell_type": "code",
   "execution_count": null,
   "metadata": {},
   "outputs": [],
   "source": [
    "#Finding the relations between the variables.\n",
    "plt.figure(figsize=(20,10))\n",
    "c = df.corr()\n",
    "sns.heatmap(c,cmap=\"BrBG\",annot=True)\n",
    "c"
   ]
  },
  {
   "cell_type": "markdown",
   "metadata": {},
   "source": [
    "## Scatterplot\n",
    "### We generally use scatter plots to find the correlation between two variables. Here the scatter plots are plotted between Horsepower and Price and we can see the plot below. With the plot given below, we can easily draw a trend line. These features provide a good scattering of points."
   ]
  },
  {
   "cell_type": "code",
   "execution_count": null,
   "metadata": {},
   "outputs": [],
   "source": [
    "# Plotting a scatter plot\n",
    "fig, ax = plt.subplots(figsize=(10,6))\n",
    "ax.scatter(df[pF], df['g'])\n",
    "ax.set_xlabel('Predictor')\n",
    "ax.set_ylabel('Response')\n",
    "plt.show()"
   ]
  },
  {
   "cell_type": "code",
   "execution_count": null,
   "metadata": {},
   "outputs": [],
   "source": []
  }
 ],
 "metadata": {
  "kernelspec": {
   "display_name": "Python 3",
   "language": "python",
   "name": "python3"
  },
  "language_info": {
   "codemirror_mode": {
    "name": "ipython",
    "version": 3
   },
   "file_extension": ".py",
   "mimetype": "text/x-python",
   "name": "python",
   "nbconvert_exporter": "python",
   "pygments_lexer": "ipython3",
   "version": "3.6.9"
  }
 },
 "nbformat": 4,
 "nbformat_minor": 4
}
