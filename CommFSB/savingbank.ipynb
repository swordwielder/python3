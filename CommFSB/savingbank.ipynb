{
 "cells": [
  {
   "cell_type": "markdown",
   "metadata": {},
   "source": [
    "# CFSB Coding Challenge\n",
    "## Question 1a.\n",
    "### a. Using a brute-force search, find all 4 consecutive 3-digit integers that are like this."
   ]
  },
  {
   "cell_type": "code",
   "execution_count": 8,
   "metadata": {},
   "outputs": [
    {
     "data": {
      "text/plain": [
       "[[510, 511, 512, 513]]"
      ]
     },
     "execution_count": 8,
     "metadata": {},
     "output_type": "execute_result"
    }
   ],
   "source": [
    "wholeStack=[]  #This has all the numbers which satisfy the condition\n",
    "currentStack=[]  #This is the current stack which satisfy the condition\n",
    "Sum=0\n",
    "for i in range(100,1000):\n",
    "    \n",
    "    num=i\n",
    "    #loop to get the sum of the digits\n",
    "    while num>0: \n",
    "        remainder=num % 10\n",
    "        Sum+=remainder\n",
    "        num=num//10\n",
    "    \n",
    "    #Check if the number is a multiple of the sume of its digits\n",
    "    if i%Sum==0:\n",
    "        currentStack.append(i)\n",
    "        if len(currentStack)==4:\n",
    "            wholeStack.append(currentStack)\n",
    "    else:\n",
    "        currentStack=[]\n",
    "    Sum=0\n",
    "wholeStack"
   ]
  },
  {
   "cell_type": "markdown",
   "metadata": {},
   "source": [
    "##  1b.\n",
    "### Are there 17 consecutive 3-digit integers, such that they cannot be divided by the sum of their digits? 18?\n",
    "### There are 17.  \n"
   ]
  },
  {
   "cell_type": "code",
   "execution_count": 9,
   "metadata": {},
   "outputs": [
    {
     "data": {
      "text/plain": [
       "17"
      ]
     },
     "execution_count": 9,
     "metadata": {},
     "output_type": "execute_result"
    }
   ],
   "source": [
    "wholeStack=[]  #This has all the numbers which satisfy the condition\n",
    "currentStack=[]  #This is the current stack which satisfy the condition\n",
    "Sum=0\n",
    "for i in range(100,1000):\n",
    "    \n",
    "    num=i\n",
    "    #loop to get the sum of the digits\n",
    "    while num>0: \n",
    "        remainder=num % 10\n",
    "        Sum+=remainder\n",
    "        num=num//10\n",
    "    \n",
    "    #Check if the number is a multiple of the sume of its digits\n",
    "    if i%Sum==0:\n",
    "        currentStack.append(i)\n",
    "        if len(currentStack)==2:\n",
    "            wholeStack.append(currentStack)\n",
    "    else:\n",
    "        currentStack=[]\n",
    "    Sum=0\n",
    "len(wholeStack)"
   ]
  },
  {
   "cell_type": "markdown",
   "metadata": {},
   "source": [
    "##  1c.\n",
    "###  If your search range was expanded to [10^2 , 10^12 ] – Please discuss how would you speed\n",
    "### up or optimize your search algorithm without any additional computational resources?\n",
    "### What utilities, functions or packages would you use during testing to benchmark\n",
    "### performance?\n"
   ]
  },
  {
   "cell_type": "markdown",
   "metadata": {},
   "source": [
    "Download the phoneme dataset (CSV) from\n",
    "https://web.stanford.edu/~hastie/ElemStatLearn/datasets/phoneme.data.\n",
    "The dataset is [4509 x259] and contains frequency measurements for five (5) phonemes\n",
    "sampled at 16 kHz for 256 measurements per observation. Predictor features are labeled &quot;x.1&quot; -\n",
    "&quot;x.256&quot; and the response is labeled “g”, the phoneme. The “speaker” column contains a unique\n",
    "identifier for each the speaker used to generate the observed data – ignore this field.\n",
    "Full dataset information is available in\n",
    "https://web.stanford.edu/~hastie/ElemStatLearn/datasets/phoneme.info.txt.\n",
    "a. Perform a quick exploratory analysis with summary statistics and plots.\n",
    "b. Implement an LDA classification model of {g ~ x.1 + x.2 + … + x.256} for the “g” response\n",
    "using cross validation or other sampling methods if deemed necessary.\n",
    "i. Print model performance statistics, generating plots as necessary and write a\n",
    "quick narrative summarizing results.\n",
    "ii. What are some considerations that should be made before implementing LDA?\n",
    "Does your exploratory analysis suggest that this is a good modeling technique to\n",
    "use for this data?"
   ]
  },
  {
   "cell_type": "markdown",
   "metadata": {},
   "source": [
    "## 2a. Perform a quick exploratory analysis with summary statistics and plots."
   ]
  },
  {
   "cell_type": "code",
   "execution_count": 44,
   "metadata": {},
   "outputs": [
    {
     "data": {
      "image/png": "[encoded data removed]",
      "text/plain": [
       "<Figure size 864x864 with 1 Axes>"
      ]
     },
     "metadata": {},
     "output_type": "display_data"
    }
   ],
   "source": [
    "import pandas as pd\n",
    "import numpy as np\n",
    "from matplotlib import pyplot as plt\n",
    "\n",
    "# from sklearn.datasets import load_wine\n",
    "# np.set_printoptions(precision=4)\n",
    "# import seaborn as sns\n",
    "# sns.set()\n",
    "# from sklearn.preprocessing import LabelEncoder\n",
    "# from sklearn.tree import DecisionTreeClassifier\n",
    "# from sklearn.model_selection import train_test_split\n",
    "# from sklearn.metrics import confusion_matrix\n",
    "\n",
    "fig=plt.figure(figsize=(12,12))\n",
    "\n",
    "\n",
    "df = pd.read_csv('./Files/phoneme.data')\n",
    "#df2 = pd.read_csv('./Files/phoneme.info.txt')\n",
    "df\n",
    "predictFeature = [col for col in df if col.startswith('x.')]\n",
    "# predictorFeature = df.columns.str.startswith(\"x.\")\n",
    "#type(df)\n",
    "predictFeature\n",
    "df[predictFeature]\n",
    "df['g']\n",
    "plt.plot(df[predictFeature],df['g'],'s')\n",
    "plt.show()\n",
    "\n",
    "# df.plot(x=df[])\n",
    "#df.to_csv('data.csv')\n",
    "# df.to_json('data2.json')\n"
   ]
  },
  {
   "cell_type": "markdown",
   "metadata": {},
   "source": [
    "## 2b. Implement an LDA classification model of {g ~ x.1 + x.2 + … + x.256} for the “g” response using cross validation or other sampling methods if deemed necessary."
   ]
  },
  {
   "cell_type": "code",
   "execution_count": null,
   "metadata": {},
   "outputs": [],
   "source": []
  }
 ],
 "metadata": {
  "kernelspec": {
   "display_name": "Python 3",
   "language": "python",
   "name": "python3"
  },
  "language_info": {
   "codemirror_mode": {
    "name": "ipython",
    "version": 3
   },
   "file_extension": ".py",
   "mimetype": "text/x-python",
   "name": "python",
   "nbconvert_exporter": "python",
   "pygments_lexer": "ipython3",
   "version": "3.6.9"
  }
 },
 "nbformat": 4,
 "nbformat_minor": 4
}
