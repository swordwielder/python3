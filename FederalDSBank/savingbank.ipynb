{
 "cells": [
  {
   "cell_type": "markdown",
   "metadata": {},
   "source": [
    "# CFSB Coding Challenge\n",
    "## Question 1a.\n",
    "### a. Using a brute-force search, find all 4 consecutive 3-digit integers that are like this."
   ]
  },
  {
   "cell_type": "code",
   "execution_count": 35,
   "metadata": {},
   "outputs": [
    {
     "name": "stdout",
     "output_type": "stream",
     "text": [
      "[[110, 111, 112], [132, 133], [152, 153], [200, 201], [209, 210], [224, 225], [399, 400], [407, 408], [440, 441], [480, 481], [510, 511, 512, 513], [629, 630], [644, 645], [735, 736], [800, 801], [803, 804], [935, 936]]\n"
     ]
    }
   ],
   "source": [
    "wholeStack=[]  #This has all the numbers which satisfy the condition\n",
    "currentStack=[]  #This is the current stack which satisfy the condition\n",
    "Sum=0\n",
    "for i in range(100,1000):\n",
    "    \n",
    "    num=i\n",
    "    #loop to get the sum of the digits\n",
    "    while num>0: \n",
    "        Remainder=num % 10\n",
    "        Sum+=Remainder\n",
    "        num=num//10\n",
    "    \n",
    "    #Check if the number is a multiple of the sume of its digits\n",
    "    if i%Sum==0:\n",
    "        currentStack.append(i)\n",
    "        if len(currentStack)==2:\n",
    "            wholeStack.append(currentStack)\n",
    "    else:\n",
    "        currentStack=[]\n",
    "    Sum=0\n",
    "print(wholeStack)"
   ]
  },
  {
   "cell_type": "markdown",
   "metadata": {},
   "source": [
    "### b. Are there 17 consecutive 3-digit integers, such that they cannot be divided by the sum of their digits? 18?\n",
    "### There are 17.  \n",
    "###  [[110, 111, 112], [132, 133], [152, 153], [200, 201], [209, 210], [224, 225], [399, 400], [407, 408], [440, 441], [480, 481], [510, 511, 512, 513], [629, 630], [644, 645], [735, 736], [800, 801], [803, 804], [935, 936]]\n",
    "\n"
   ]
  },
  {
   "cell_type": "code",
   "execution_count": 37,
   "metadata": {},
   "outputs": [],
   "source": [
    "### c. If your search range was expanded to [10^2 , 10^12 ] – Please discuss how would you speed\n",
    "### up or optimize your search algorithm without any additional computational resources?\n",
    "### What utilities, functions or packages would you use during testing to benchmark\n",
    "### performance?\n"
   ]
  },
  {
   "cell_type": "code",
   "execution_count": null,
   "metadata": {},
   "outputs": [],
   "source": []
  },
  {
   "cell_type": "code",
   "execution_count": null,
   "metadata": {},
   "outputs": [],
   "source": []
  },
  {
   "cell_type": "code",
   "execution_count": null,
   "metadata": {},
   "outputs": [],
   "source": []
  },
  {
   "cell_type": "code",
   "execution_count": null,
   "metadata": {},
   "outputs": [],
   "source": []
  }
 ],
 "metadata": {
  "kernelspec": {
   "display_name": "Python 3",
   "language": "python",
   "name": "python3"
  },
  "language_info": {
   "codemirror_mode": {
    "name": "ipython",
    "version": 3
   },
   "file_extension": ".py",
   "mimetype": "text/x-python",
   "name": "python",
   "nbconvert_exporter": "python",
   "pygments_lexer": "ipython3",
   "version": "3.6.9"
  }
 },
 "nbformat": 4,
 "nbformat_minor": 4
}
