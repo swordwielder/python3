{
 "cells": [
  {
   "cell_type": "code",
   "execution_count": 10,
   "metadata": {},
   "outputs": [
    {
     "ename": "SyntaxError",
     "evalue": "invalid syntax (<ipython-input-10-749820cb00c7>, line 1)",
     "output_type": "error",
     "traceback": [
      "\u001b[0;36m  File \u001b[0;32m\"<ipython-input-10-749820cb00c7>\"\u001b[0;36m, line \u001b[0;32m1\u001b[0m\n\u001b[0;31m    <font style=\"font-size:3rem\">\u001b[0m\n\u001b[0m    ^\u001b[0m\n\u001b[0;31mSyntaxError\u001b[0m\u001b[0;31m:\u001b[0m invalid syntax\n"
     ]
    }
   ],
   "source": [
    "<font style=\"font-size:3rem\">\n",
    "    Web Scraping - Nyc Python meetup\n",
    "</font>\n"
   ]
  },
  {
   "cell_type": "code",
   "execution_count": 5,
   "metadata": {},
   "outputs": [],
   "source": [
    "import os\n",
    "import json\n",
    "import re\n",
    "#webscraping\n",
    "import requests\n",
    "from bs4 import BeautifulSoup"
   ]
  },
  {
   "cell_type": "code",
   "execution_count": 6,
   "metadata": {},
   "outputs": [],
   "source": [
    "\n",
    "url=\"https://www.meetup.com/nycpython/\"\n",
    "#open graph = OG\n",
    "r=requests.get(url)\n",
    "html=r.text\n",
    "soup = BeautifulSoup(html, 'html.parser')\n"
   ]
  },
  {
   "cell_type": "code",
   "execution_count": 17,
   "metadata": {},
   "outputs": [
    {
     "ename": "SyntaxError",
     "evalue": "invalid syntax (<ipython-input-17-5a4b46581770>, line 1)",
     "output_type": "error",
     "traceback": [
      "\u001b[0;36m  File \u001b[0;32m\"<ipython-input-17-5a4b46581770>\"\u001b[0;36m, line \u001b[0;32m1\u001b[0m\n\u001b[0;31m    <title>The New York Python Meetup Group (New York, NY) | Meetup</title>\u001b[0m\n\u001b[0m    ^\u001b[0m\n\u001b[0;31mSyntaxError\u001b[0m\u001b[0;31m:\u001b[0m invalid syntax\n"
     ]
    }
   ],
   "source": [
    "\n",
    "<title>The New York Python Meetup Group (New York, NY) | Meetup</title>\n"
   ]
  },
  {
   "cell_type": "code",
   "execution_count": 18,
   "metadata": {},
   "outputs": [
    {
     "data": {
      "text/plain": [
       "<meta content=\"The New York Python Meetup Group (New York, NY)\" data-react-helmet=\"true\" property=\"og:title\"/>"
      ]
     },
     "execution_count": 18,
     "metadata": {},
     "output_type": "execute_result"
    }
   ],
   "source": [
    "soup.find(\"meta\", property=\"og:title\")"
   ]
  },
  {
   "cell_type": "code",
   "execution_count": 20,
   "metadata": {},
   "outputs": [
    {
     "data": {
      "text/plain": [
       "[<meta content=\"width=device-width, initial-scale=1\" data-react-helmet=\"true\" name=\"viewport\"/>,\n",
       " <meta content=\"text/html; charset=utf-8\" data-react-helmet=\"true\" http-equiv=\"Content-Type\"/>,\n",
       " <meta content=\"IE=edge\" data-react-helmet=\"true\" http-equiv=\"X-UA-Compatible\"/>,\n",
       " <meta content=\"h5EhuAEkLFlZmMxwpH5wnRaoDEmqYCCEUE+FLcrRNvE=\" data-react-helmet=\"true\" name=\"verify-v1\"/>,\n",
       " <meta content=\"index, follow\" data-react-helmet=\"true\" name=\"robots\"/>,\n",
       " <meta content=\"Meet other local Python Programming Language enthusiasts!\" data-react-helmet=\"true\" name=\"description\"/>,\n",
       " <meta content=\"Python,Software Development,Open Source,Computer programming,Python Web Development,Web Development,Django,The New York Python Meetup Group,New York,NY,US\" data-react-helmet=\"true\" name=\"keywords\"/>,\n",
       " <meta content=\"2403839689\" data-react-helmet=\"true\" property=\"fb:app_id\"/>,\n",
       " <meta content=\"Meetup\" data-react-helmet=\"true\" property=\"og:site_name\"/>,\n",
       " <meta content=\"article\" data-react-helmet=\"true\" property=\"og:type\"/>,\n",
       " <meta content=\"The New York Python Meetup Group (New York, NY)\" data-react-helmet=\"true\" property=\"og:title\"/>,\n",
       " <meta content=\"Meet other local Python Programming Language enthusiasts!\" data-react-helmet=\"true\" property=\"og:description\"/>,\n",
       " <meta content=\"https://www.meetup.com/nycpython/\" data-react-helmet=\"true\" property=\"og:url\"/>,\n",
       " <meta content=\"https://secure.meetupstatic.com/photos/event/3/5/9/e/600_445933726.jpeg\" data-react-helmet=\"true\" property=\"og:image\"/>,\n",
       " <meta content=\"Meetup\" data-react-helmet=\"true\" property=\"al:android:app_name\"/>,\n",
       " <meta content=\"com.meetup\" data-react-helmet=\"true\" property=\"al:android:package\"/>,\n",
       " <meta content=\"375990038\" data-react-helmet=\"true\" property=\"al:ios:app_store_id\"/>,\n",
       " <meta content=\"Meetup\" data-react-helmet=\"true\" property=\"al:ios:app_name\"/>,\n",
       " <meta content=\"true\" data-react-helmet=\"true\" property=\"al:web:should_fallback\"/>,\n",
       " <meta content=\"meetup://nycpython/\" data-react-helmet=\"true\" property=\"al:android:url\"/>,\n",
       " <meta content=\"meetup://nycpython/\" data-react-helmet=\"true\" property=\"al:ios:url\"/>,\n",
       " <meta content=\"https://www.meetup.com/nycpython/\" data-react-helmet=\"true\" property=\"al:web:url\"/>,\n",
       " <meta content=\"summary_large_image\" data-react-helmet=\"true\" property=\"twitter:card\"/>,\n",
       " <meta content=\"@meetup\" data-react-helmet=\"true\" property=\"twitter:site\"/>,\n",
       " <meta content=\"https://secure.meetupstatic.com/photos/event/3/5/9/e/600_445933726.jpeg\" data-react-helmet=\"true\" property=\"twitter:image\"/>,\n",
       " <meta content=\"Meet other local Python Programming Language enthusiasts!\" data-react-helmet=\"true\" property=\"twitter:description\"/>,\n",
       " <meta content=\"375990038\" data-react-helmet=\"true\" property=\"twitter:app:id:iphone\"/>,\n",
       " <meta content=\"Meetup\" data-react-helmet=\"true\" property=\"twitter:app:name:iphone\"/>,\n",
       " <meta content=\"375990038\" data-react-helmet=\"true\" property=\"twitter:app:id:ipad\"/>,\n",
       " <meta content=\"Meetup\" data-react-helmet=\"true\" property=\"twitter:app:name:ipad\"/>,\n",
       " <meta content=\"com.meetup\" data-react-helmet=\"true\" property=\"twitter:app:id:googleplay\"/>,\n",
       " <meta content=\"Meetup\" data-react-helmet=\"true\" property=\"twitter:app:name:googleplay\"/>,\n",
       " <meta content=\"40.75;-73.99\" data-react-helmet=\"true\" property=\"geo.position\"/>,\n",
       " <meta content=\"New York, NY, US\" data-react-helmet=\"true\" property=\"geo.placename\"/>,\n",
       " <meta content=\"US\" data-react-helmet=\"true\" property=\"geo.region\"/>]"
      ]
     },
     "execution_count": 20,
     "metadata": {},
     "output_type": "execute_result"
    }
   ],
   "source": [
    "soup.find_all(\"meta\")"
   ]
  },
  {
   "cell_type": "code",
   "execution_count": 31,
   "metadata": {},
   "outputs": [],
   "source": [
    "records = {}\n",
    "\n",
    "#find it in the soup\n",
    "title_use = soup.find(\"title\")\n",
    "if not title_use:\n",
    "    title_use = soup.find(\"meta\", property=\"og:title\")\n",
    "#This is one way to do it\n",
    "#record[\"title\"]=title_use\n",
    "\n",
    "records.update(\n",
    "    {\"title\":title_use}\n",
    ")\n",
    "records\n"
   ]
  },
  {
   "cell_type": "markdown",
   "metadata": {},
   "source": [
    "## Title"
   ]
  },
  {
   "cell_type": "code",
   "execution_count": 33,
   "metadata": {},
   "outputs": [
    {
     "ename": "SyntaxError",
     "evalue": "invalid syntax (<ipython-input-33-5fc8be0cab13>, line 1)",
     "output_type": "error",
     "traceback": [
      "\u001b[0;36m  File \u001b[0;32m\"<ipython-input-33-5fc8be0cab13>\"\u001b[0;36m, line \u001b[0;32m1\u001b[0m\n\u001b[0;31m    soup.find(\"meta\", property=)\u001b[0m\n\u001b[0m                               ^\u001b[0m\n\u001b[0;31mSyntaxError\u001b[0m\u001b[0;31m:\u001b[0m invalid syntax\n"
     ]
    }
   ],
   "source": [
    "soup.find(\"meta\", property=)\n"
   ]
  },
  {
   "cell_type": "markdown",
   "metadata": {},
   "source": [
    "## New STuff"
   ]
  },
  {
   "cell_type": "markdown",
   "metadata": {},
   "source": [
    "aws stats"
   ]
  },
  {
   "cell_type": "code",
   "execution_count": null,
   "metadata": {},
   "outputs": [],
   "source": []
  },
  {
   "cell_type": "code",
   "execution_count": null,
   "metadata": {},
   "outputs": [],
   "source": []
  },
  {
   "cell_type": "code",
   "execution_count": null,
   "metadata": {},
   "outputs": [],
   "source": []
  },
  {
   "cell_type": "code",
   "execution_count": null,
   "metadata": {},
   "outputs": [],
   "source": []
  },
  {
   "cell_type": "code",
   "execution_count": null,
   "metadata": {},
   "outputs": [],
   "source": []
  }
 ],
 "metadata": {
  "kernelspec": {
   "display_name": "Python 3",
   "language": "python",
   "name": "python3"
  },
  "language_info": {
   "codemirror_mode": {
    "name": "ipython",
    "version": 3
   },
   "file_extension": ".py",
   "mimetype": "text/x-python",
   "name": "python",
   "nbconvert_exporter": "python",
   "pygments_lexer": "ipython3",
   "version": "3.6.9"
  }
 },
 "nbformat": 4,
 "nbformat_minor": 4
}
